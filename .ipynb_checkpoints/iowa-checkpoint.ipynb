{
 "cells": [
  {
   "cell_type": "code",
   "execution_count": 67,
   "metadata": {
    "collapsed": true
   },
   "outputs": [],
   "source": [
    "import pandas as pd\n",
    "from sklearn.ensemble import RandomForestRegressor\n",
    "from sklearn.metrics import mean_absolute_error\n",
    "from sklearn.model_selection import train_test_split\n",
    "from sklearn.tree import DecisionTreeRegressor\n",
    "from sklearn.impute import SimpleImputer"
   ]
  },
  {
   "cell_type": "code",
   "execution_count": 68,
   "metadata": {},
   "outputs": [
    {
     "name": "stdout",
     "output_type": "stream",
     "text": [
      "Validation MAE when not specifying max_leaf_nodes: 27,094\n",
      "Validation MAE for best value of max_leaf_nodes: 24,931\n",
      "Validation MAE for Random Forest Model: 18,877\n"
     ]
    },
    {
     "name": "stderr",
     "output_type": "stream",
     "text": [
      "/anaconda3/lib/python3.6/site-packages/sklearn/ensemble/forest.py:248: FutureWarning: The default value of n_estimators will change from 10 in version 0.20 to 100 in 0.22.\n",
      "  \"10 in version 0.20 to 100 in 0.22.\", FutureWarning)\n"
     ]
    }
   ],
   "source": [
    "iowa_file_path = 'train.csv'\n",
    "\n",
    "home_data = pd.read_csv(iowa_file_path)\n",
    "# Create target object and call it y\n",
    "# features_all = home_data.columns.tolist()\n",
    "# features_all.remove('SalePrice')\n",
    "# features = []\n",
    "# for f in features_all:\n",
    "#     if home_data[f].dtypes==\"int64\":\n",
    "#         features.append(f)        \n",
    "y = home_data.SalePrice\n",
    "# Create X\n",
    "#features = ['LotArea', 'YearBuilt', '1stFlrSF', '2ndFlrSF', 'FullBath', 'BedroomAbvGr', 'TotRmsAbvGrd']\n",
    "X = home_data.drop(['SalePrice'], axis=1) \n",
    "X = X.select_dtypes(exclude=['object'])\n",
    "\n",
    "\n",
    "\n",
    "#X=X.drop(['LotFrontage', 'GarageYrBlt'], axis = 1)\n",
    "\n",
    "\n",
    "\n",
    "# Split into validation and training data\n",
    "train_X, val_X, train_y, val_y = train_test_split(X, y, random_state=1)\n",
    "\n",
    "\n",
    "from sklearn.impute import SimpleImputer\n",
    "my_imputer = SimpleImputer()\n",
    "train_X_with_imputed_values = my_imputer.fit_transform(train_X)\n",
    "val_X_with_imputed_values = my_imputer.transform(val_X)\n",
    "\n",
    "\n",
    "# Specify Model\n",
    "iowa_model = DecisionTreeRegressor(random_state=1)\n",
    "\n",
    "\n",
    "\n",
    "\n",
    "# Fit Model\n",
    "iowa_model.fit(train_X_with_imputed_values, train_y)\n",
    "\n",
    "# Make validation predictions and calculate mean absolute error\n",
    "val_predictions = iowa_model.predict(val_X_with_imputed_values)\n",
    "val_mae = mean_absolute_error(val_predictions, val_y)\n",
    "print(\"Validation MAE when not specifying max_leaf_nodes: {:,.0f}\".format(val_mae))\n",
    "\n",
    "# Using best value for max_leaf_nodes\n",
    "iowa_model = DecisionTreeRegressor(max_leaf_nodes=100, random_state=1)\n",
    "iowa_model.fit(train_X_with_imputed_values, train_y)\n",
    "val_predictions = iowa_model.predict(val_X_with_imputed_values)\n",
    "val_mae = mean_absolute_error(val_predictions, val_y)\n",
    "print(\"Validation MAE for best value of max_leaf_nodes: {:,.0f}\".format(val_mae))\n",
    "\n",
    "# Define the model. Set random_state to 1\n",
    "rf_model = RandomForestRegressor(max_leaf_nodes = 350,random_state=1)\n",
    "rf_model.fit(train_X_with_imputed_values, train_y)\n",
    "rf_val_predictions = rf_model.predict(val_X_with_imputed_values)\n",
    "rf_val_mae = mean_absolute_error(rf_val_predictions, val_y)\n",
    "\n",
    "print(\"Validation MAE for Random Forest Model: {:,.0f}\".format(rf_val_mae))\n",
    "\n"
   ]
  },
  {
   "cell_type": "code",
   "execution_count": 69,
   "metadata": {},
   "outputs": [
    {
     "name": "stderr",
     "output_type": "stream",
     "text": [
      "/anaconda3/lib/python3.6/site-packages/sklearn/ensemble/forest.py:248: FutureWarning: The default value of n_estimators will change from 10 in version 0.20 to 100 in 0.22.\n",
      "  \"10 in version 0.20 to 100 in 0.22.\", FutureWarning)\n"
     ]
    },
    {
     "data": {
      "text/plain": [
       "18745.87681724058"
      ]
     },
     "execution_count": 69,
     "metadata": {},
     "output_type": "execute_result"
    }
   ],
   "source": [
    "def score_dataset(X_train, X_test, y_train, y_test):\n",
    "    rf_model = RandomForestRegressor(max_leaf_nodes = 350, random_state=1)\n",
    "    rf_model.fit(X_train, y_train)\n",
    "    rf_val_predictions = rf_model.predict(X_test)\n",
    "    rf_val_mae = mean_absolute_error(rf_val_predictions, y_test)\n",
    "    return rf_val_mae\n",
    "\n",
    "imputed_X_train_plus = train_X.copy()\n",
    "imputed_X_test_plus = val_X.copy()\n",
    "\n",
    "cols_with_missing = (col for col in train_X.columns \n",
    "                                 if train_X[col].isnull().any())\n",
    "for col in cols_with_missing:\n",
    "    imputed_X_train_plus[col + '_was_missing'] = imputed_X_train_plus[col].isnull()\n",
    "    imputed_X_test_plus[col + '_was_missing'] = imputed_X_test_plus[col].isnull()\n",
    "\n",
    "my_imputer = SimpleImputer()\n",
    "imputed_X_train_plus = my_imputer.fit_transform(imputed_X_train_plus)\n",
    "imputed_X_test_plus = my_imputer.transform(imputed_X_test_plus)\n",
    "\n",
    "    \n",
    "score_dataset(imputed_X_train_plus, imputed_X_test_plus, train_y, val_y)"
   ]
  },
  {
   "cell_type": "code",
   "execution_count": 70,
   "metadata": {},
   "outputs": [
    {
     "name": "stderr",
     "output_type": "stream",
     "text": [
      "/anaconda3/lib/python3.6/site-packages/sklearn/ensemble/forest.py:248: FutureWarning: The default value of n_estimators will change from 10 in version 0.20 to 100 in 0.22.\n",
      "  \"10 in version 0.20 to 100 in 0.22.\", FutureWarning)\n"
     ]
    }
   ],
   "source": [
    "test_data_path = 'test.csv'\n",
    "\n",
    "# read test data file using pandas\n",
    "test_data = pd.read_csv(test_data_path)\n",
    "\n",
    "# create test_X which comes from test_data but includes only the columns you used for prediction.\n",
    "# The list of columns is stored in a variable called features\n",
    "\n",
    "test_X = test_data.select_dtypes(exclude=['object'])\n",
    "\n",
    "X_test_plus = test_X.copy()\n",
    "X_train_plus = X.copy()\n",
    "\n",
    "cols_with_missing = (col for col in X.columns \n",
    "                                 if X[col].isnull().any())\n",
    "\n",
    "for col in cols_with_missing:\n",
    "    X_train_plus[col + '_was_missing'] = X_train_plus[col].isnull()\n",
    "    X_test_plus[col + '_was_missing'] = X_test_plus[col].isnull()\n",
    "\n",
    "\n",
    "\n",
    "#my_imputer = SimpleImputer()\n",
    "imputed_X_train_plus = my_imputer.fit_transform(X_train_plus)\n",
    "imputed_X_test_plus = my_imputer.transform(X_test_plus)\n",
    "\n",
    "\n",
    "rf_model = RandomForestRegressor(max_leaf_nodes = 350, random_state=1)\n",
    "rf_model.fit(imputed_X_train_plus, y)\n",
    "test_preds = rf_model.predict(imputed_X_test_plus)\n",
    "#rf_val_mae = mean_absolute_error(rf_val_predictions, y_test)\n",
    "\n",
    "\n",
    "\n",
    "# The lines below shows you how to save your data in the format needed to score it in the competition\n",
    "output = pd.DataFrame({'Id': test_data.Id,\n",
    "                       'SalePrice': test_preds})\n",
    "\n",
    "output.to_csv('submission.csv', index=False)"
   ]
  },
  {
   "cell_type": "code",
   "execution_count": null,
   "metadata": {
    "collapsed": true
   },
   "outputs": [],
   "source": []
  },
  {
   "cell_type": "code",
   "execution_count": null,
   "metadata": {
    "collapsed": true
   },
   "outputs": [],
   "source": []
  }
 ],
 "metadata": {
  "kernelspec": {
   "display_name": "Python 3",
   "language": "python",
   "name": "python3"
  },
  "language_info": {
   "codemirror_mode": {
    "name": "ipython",
    "version": 3
   },
   "file_extension": ".py",
   "mimetype": "text/x-python",
   "name": "python",
   "nbconvert_exporter": "python",
   "pygments_lexer": "ipython3",
   "version": "3.6.3"
  }
 },
 "nbformat": 4,
 "nbformat_minor": 2
}
